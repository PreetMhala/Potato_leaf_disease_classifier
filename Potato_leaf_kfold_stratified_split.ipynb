{
 "metadata": {
  "kernelspec": {
   "language": "python",
   "display_name": "Python 3",
   "name": "python3"
  },
  "language_info": {
   "name": "python",
   "version": "3.10.13",
   "mimetype": "text/x-python",
   "codemirror_mode": {
    "name": "ipython",
    "version": 3
   },
   "pygments_lexer": "ipython3",
   "nbconvert_exporter": "python",
   "file_extension": ".py"
  },
  "kaggle": {
   "accelerator": "gpu",
   "dataSources": [
    {
     "sourceId": 7401409,
     "sourceType": "datasetVersion",
     "datasetId": 4303793
    }
   ],
   "dockerImageVersionId": 30747,
   "isInternetEnabled": true,
   "language": "python",
   "sourceType": "notebook",
   "isGpuEnabled": true
  }
 },
 "nbformat_minor": 4,
 "nbformat": 4,
 "cells": [
  {
   "cell_type": "code",
   "source": "!pip install split-folders",
   "metadata": {
    "_uuid": "8f2839f25d086af736a60e9eeb907d3b93b6e0e5",
    "_cell_guid": "b1076dfc-b9ad-4769-8c92-a6c4dae69d19",
    "execution": {
     "iopub.status.busy": "2024-08-11T21:19:10.709696Z",
     "iopub.execute_input": "2024-08-11T21:19:10.710068Z",
     "iopub.status.idle": "2024-08-11T21:19:24.271813Z",
     "shell.execute_reply.started": "2024-08-11T21:19:10.710015Z",
     "shell.execute_reply": "2024-08-11T21:19:24.270696Z"
    },
    "trusted": true
   },
   "execution_count": 1,
   "outputs": [
    {
     "name": "stdout",
     "text": "Collecting split-folders\n  Downloading split_folders-0.5.1-py3-none-any.whl.metadata (6.2 kB)\nDownloading split_folders-0.5.1-py3-none-any.whl (8.4 kB)\nInstalling collected packages: split-folders\nSuccessfully installed split-folders-0.5.1\n",
     "output_type": "stream"
    }
   ]
  },
  {
   "cell_type": "code",
   "source": "import matplotlib.pyplot as plt\nimport seaborn as sns\nimport numpy as np\nimport pandas as pd\nimport random\nimport cv2\nimport os\nimport PIL\nimport pathlib\nimport splitfolders",
   "metadata": {
    "execution": {
     "iopub.status.busy": "2024-08-11T21:19:24.273855Z",
     "iopub.execute_input": "2024-08-11T21:19:24.274206Z",
     "iopub.status.idle": "2024-08-11T21:19:25.377275Z",
     "shell.execute_reply.started": "2024-08-11T21:19:24.274176Z",
     "shell.execute_reply": "2024-08-11T21:19:25.376431Z"
    },
    "trusted": true
   },
   "execution_count": 2,
   "outputs": []
  },
  {
   "cell_type": "code",
   "source": "import tensorflow as tf\nfrom tensorflow import keras\nfrom tensorflow.keras import layers\nfrom tensorflow.keras.models import Sequential\nfrom tensorflow.keras.callbacks import ModelCheckpoint, EarlyStopping, ReduceLROnPlateau\nfrom tensorflow.keras.preprocessing.image import ImageDataGenerator\n",
   "metadata": {
    "execution": {
     "iopub.status.busy": "2024-08-11T21:19:25.378460Z",
     "iopub.execute_input": "2024-08-11T21:19:25.378973Z",
     "iopub.status.idle": "2024-08-11T21:19:36.788444Z",
     "shell.execute_reply.started": "2024-08-11T21:19:25.378938Z",
     "shell.execute_reply": "2024-08-11T21:19:36.787606Z"
    },
    "trusted": true
   },
   "execution_count": 3,
   "outputs": [
    {
     "name": "stderr",
     "text": "2024-08-11 21:19:27.071940: E external/local_xla/xla/stream_executor/cuda/cuda_dnn.cc:9261] Unable to register cuDNN factory: Attempting to register factory for plugin cuDNN when one has already been registered\n2024-08-11 21:19:27.072092: E external/local_xla/xla/stream_executor/cuda/cuda_fft.cc:607] Unable to register cuFFT factory: Attempting to register factory for plugin cuFFT when one has already been registered\n2024-08-11 21:19:27.209136: E external/local_xla/xla/stream_executor/cuda/cuda_blas.cc:1515] Unable to register cuBLAS factory: Attempting to register factory for plugin cuBLAS when one has already been registered\n",
     "output_type": "stream"
    }
   ]
  },
  {
   "cell_type": "code",
   "source": "from sklearn.metrics import classification_report, confusion_matrix\nfrom sklearn.model_selection import StratifiedKFold\nfrom sklearn.preprocessing import LabelEncoder",
   "metadata": {
    "execution": {
     "iopub.status.busy": "2024-08-11T21:19:36.789730Z",
     "iopub.execute_input": "2024-08-11T21:19:36.790325Z",
     "iopub.status.idle": "2024-08-11T21:19:36.932652Z",
     "shell.execute_reply.started": "2024-08-11T21:19:36.790297Z",
     "shell.execute_reply": "2024-08-11T21:19:36.931854Z"
    },
    "trusted": true
   },
   "execution_count": 4,
   "outputs": []
  },
  {
   "cell_type": "code",
   "source": "import wandb\nfrom wandb.integration.keras import WandbCallback\nfrom kaggle_secrets import UserSecretsClient\n",
   "metadata": {
    "execution": {
     "iopub.status.busy": "2024-08-11T21:19:36.934988Z",
     "iopub.execute_input": "2024-08-11T21:19:36.935322Z",
     "iopub.status.idle": "2024-08-11T21:19:37.564569Z",
     "shell.execute_reply.started": "2024-08-11T21:19:36.935296Z",
     "shell.execute_reply": "2024-08-11T21:19:37.563601Z"
    },
    "trusted": true
   },
   "execution_count": 5,
   "outputs": []
  },
  {
   "cell_type": "code",
   "source": "from kaggle_secrets import UserSecretsClient\nuser_secrets = UserSecretsClient()\nsecret_value_0 = user_secrets.get_secret(\"wandb_api_key\")",
   "metadata": {
    "execution": {
     "iopub.status.busy": "2024-08-11T21:19:37.565776Z",
     "iopub.execute_input": "2024-08-11T21:19:37.566082Z",
     "iopub.status.idle": "2024-08-11T21:19:37.885634Z",
     "shell.execute_reply.started": "2024-08-11T21:19:37.566045Z",
     "shell.execute_reply": "2024-08-11T21:19:37.884565Z"
    },
    "trusted": true
   },
   "execution_count": 6,
   "outputs": []
  },
  {
   "cell_type": "code",
   "source": "# Dataset paths\nbase_ds = '/kaggle/input/potatodataset/Potato Leaf Disease Dataset in Uncontrolled Environment'\nbase_ds = pathlib.Path(base_ds)",
   "metadata": {
    "execution": {
     "iopub.status.busy": "2024-08-11T21:19:37.886977Z",
     "iopub.execute_input": "2024-08-11T21:19:37.887317Z",
     "iopub.status.idle": "2024-08-11T21:19:37.892120Z",
     "shell.execute_reply.started": "2024-08-11T21:19:37.887291Z",
     "shell.execute_reply": "2024-08-11T21:19:37.891095Z"
    },
    "trusted": true
   },
   "execution_count": 7,
   "outputs": []
  },
  {
   "cell_type": "code",
   "source": "# Prepare the data for Stratified K-Fold\ndata = []\nlabels = []",
   "metadata": {
    "execution": {
     "iopub.status.busy": "2024-08-11T21:19:37.893391Z",
     "iopub.execute_input": "2024-08-11T21:19:37.893675Z",
     "iopub.status.idle": "2024-08-11T21:19:37.901453Z",
     "shell.execute_reply.started": "2024-08-11T21:19:37.893651Z",
     "shell.execute_reply": "2024-08-11T21:19:37.900632Z"
    },
    "trusted": true
   },
   "execution_count": 8,
   "outputs": []
  },
  {
   "cell_type": "code",
   "source": "# Gathering file paths and their respective labels\nfor class_dir in base_ds.glob('*'):\n    class_name = class_dir.name\n    for img_path in class_dir.glob('*'):\n        data.append(str(img_path))\n        labels.append(class_name)",
   "metadata": {
    "execution": {
     "iopub.status.busy": "2024-08-11T21:19:37.902386Z",
     "iopub.execute_input": "2024-08-11T21:19:37.902653Z",
     "iopub.status.idle": "2024-08-11T21:19:38.186419Z",
     "shell.execute_reply.started": "2024-08-11T21:19:37.902632Z",
     "shell.execute_reply": "2024-08-11T21:19:38.185634Z"
    },
    "trusted": true
   },
   "execution_count": 9,
   "outputs": []
  },
  {
   "cell_type": "code",
   "source": "# Convert labels to integers\nlabel_encoder = LabelEncoder()\nlabels = label_encoder.fit_transform(labels)\n\n# Setting up Stratified K-Fold\nn_splits = 5  # Number of folds\nskf = StratifiedKFold(n_splits=n_splits, shuffle=True, random_state=123)",
   "metadata": {
    "execution": {
     "iopub.status.busy": "2024-08-11T21:19:38.187471Z",
     "iopub.execute_input": "2024-08-11T21:19:38.187735Z",
     "iopub.status.idle": "2024-08-11T21:19:38.195284Z",
     "shell.execute_reply.started": "2024-08-11T21:19:38.187714Z",
     "shell.execute_reply": "2024-08-11T21:19:38.194426Z"
    },
    "trusted": true
   },
   "execution_count": 10,
   "outputs": []
  },
  {
   "cell_type": "code",
   "source": "# Image data generators\ntrain_datagen = ImageDataGenerator(rescale=1./255,\n                                   rotation_range=30,\n                                   zoom_range=0.15,\n                                   width_shift_range=0.2,\n                                   height_shift_range=0.2,\n                                   shear_range=0.15,\n                                   horizontal_flip=True,\n                                   fill_mode=\"nearest\")\n\ntest_datagen = ImageDataGenerator(rescale=1./255)",
   "metadata": {
    "execution": {
     "iopub.status.busy": "2024-08-11T21:19:38.196377Z",
     "iopub.execute_input": "2024-08-11T21:19:38.196946Z",
     "iopub.status.idle": "2024-08-11T21:19:38.204149Z",
     "shell.execute_reply.started": "2024-08-11T21:19:38.196916Z",
     "shell.execute_reply": "2024-08-11T21:19:38.203240Z"
    },
    "trusted": true
   },
   "execution_count": 11,
   "outputs": []
  },
  {
   "cell_type": "code",
   "source": "!pip install wandb --upgrade",
   "metadata": {
    "execution": {
     "iopub.status.busy": "2024-08-11T21:19:38.205103Z",
     "iopub.execute_input": "2024-08-11T21:19:38.205362Z",
     "iopub.status.idle": "2024-08-11T21:20:02.481634Z",
     "shell.execute_reply.started": "2024-08-11T21:19:38.205340Z",
     "shell.execute_reply": "2024-08-11T21:20:02.480659Z"
    },
    "trusted": true
   },
   "execution_count": 12,
   "outputs": [
    {
     "name": "stderr",
     "text": "/opt/conda/lib/python3.10/pty.py:89: RuntimeWarning: os.fork() was called. os.fork() is incompatible with multithreaded code, and JAX is multithreaded, so this will likely lead to a deadlock.\n  pid, fd = os.forkpty()\n",
     "output_type": "stream"
    },
    {
     "name": "stdout",
     "text": "Requirement already satisfied: wandb in /opt/conda/lib/python3.10/site-packages (0.17.4)\nCollecting wandb\n  Downloading wandb-0.17.6-py3-none-manylinux_2_17_x86_64.manylinux2014_x86_64.whl.metadata (10 kB)\nRequirement already satisfied: click!=8.0.0,>=7.1 in /opt/conda/lib/python3.10/site-packages (from wandb) (8.1.7)\nRequirement already satisfied: docker-pycreds>=0.4.0 in /opt/conda/lib/python3.10/site-packages (from wandb) (0.4.0)\nRequirement already satisfied: gitpython!=3.1.29,>=1.0.0 in /opt/conda/lib/python3.10/site-packages (from wandb) (3.1.41)\nRequirement already satisfied: platformdirs in /opt/conda/lib/python3.10/site-packages (from wandb) (3.11.0)\nRequirement already satisfied: protobuf!=4.21.0,<6,>=3.19.0 in /opt/conda/lib/python3.10/site-packages (from wandb) (3.20.3)\nRequirement already satisfied: psutil>=5.0.0 in /opt/conda/lib/python3.10/site-packages (from wandb) (5.9.3)\nRequirement already satisfied: pyyaml in /opt/conda/lib/python3.10/site-packages (from wandb) (6.0.1)\nRequirement already satisfied: requests<3,>=2.0.0 in /opt/conda/lib/python3.10/site-packages (from wandb) (2.32.3)\nRequirement already satisfied: sentry-sdk>=1.0.0 in /opt/conda/lib/python3.10/site-packages (from wandb) (2.8.0)\nRequirement already satisfied: setproctitle in /opt/conda/lib/python3.10/site-packages (from wandb) (1.3.3)\nRequirement already satisfied: setuptools in /opt/conda/lib/python3.10/site-packages (from wandb) (69.0.3)\nRequirement already satisfied: six>=1.4.0 in /opt/conda/lib/python3.10/site-packages (from docker-pycreds>=0.4.0->wandb) (1.16.0)\nRequirement already satisfied: gitdb<5,>=4.0.1 in /opt/conda/lib/python3.10/site-packages (from gitpython!=3.1.29,>=1.0.0->wandb) (4.0.11)\nRequirement already satisfied: charset-normalizer<4,>=2 in /opt/conda/lib/python3.10/site-packages (from requests<3,>=2.0.0->wandb) (3.3.2)\nRequirement already satisfied: idna<4,>=2.5 in /opt/conda/lib/python3.10/site-packages (from requests<3,>=2.0.0->wandb) (3.6)\nRequirement already satisfied: urllib3<3,>=1.21.1 in /opt/conda/lib/python3.10/site-packages (from requests<3,>=2.0.0->wandb) (1.26.18)\nRequirement already satisfied: certifi>=2017.4.17 in /opt/conda/lib/python3.10/site-packages (from requests<3,>=2.0.0->wandb) (2024.7.4)\nRequirement already satisfied: smmap<6,>=3.0.1 in /opt/conda/lib/python3.10/site-packages (from gitdb<5,>=4.0.1->gitpython!=3.1.29,>=1.0.0->wandb) (5.0.1)\nDownloading wandb-0.17.6-py3-none-manylinux_2_17_x86_64.manylinux2014_x86_64.whl (7.1 MB)\n\u001B[2K   \u001B[90m━━━━━━━━━━━━━━━━━━━━━━━━━━━━━━━━━━━━━━━━\u001B[0m \u001B[32m7.1/7.1 MB\u001B[0m \u001B[31m43.8 MB/s\u001B[0m eta \u001B[36m0:00:00\u001B[0m00:01\u001B[0m00:01\u001B[0m\n\u001B[?25hInstalling collected packages: wandb\n  Attempting uninstall: wandb\n    Found existing installation: wandb 0.17.4\n    Uninstalling wandb-0.17.4:\n      Successfully uninstalled wandb-0.17.4\nSuccessfully installed wandb-0.17.6\n",
     "output_type": "stream"
    }
   ]
  },
  {
   "cell_type": "code",
   "source": "import wandb\n\n# Store results from each fold\nfold_results = []\n\n# K-Fold Cross-Validation\nfor fold, (train_idx, val_idx) in enumerate(skf.split(data, labels)):\n    print(f\"Training fold {fold+1}/{n_splits}...\")\n    \n    # Split data into training and validation sets\n    train_files = np.array(data)[train_idx]\n    train_labels = np.array(labels)[train_idx]\n    val_files = np.array(data)[val_idx]\n    val_labels = np.array(labels)[val_idx]\n    \n    # Convert integer labels back to their string equivalents\n    train_labels_str = label_encoder.inverse_transform(train_labels)\n    val_labels_str = label_encoder.inverse_transform(val_labels)\n    \n    # Create training and validation datasets\n    train_generator = train_datagen.flow_from_dataframe(\n        pd.DataFrame({'filename': train_files, 'class': train_labels_str}),\n        x_col='filename',\n        y_col='class',\n        target_size=(128, 128),\n        class_mode='categorical',\n        batch_size=16,\n        shuffle=True\n    )\n    \n    val_generator = train_datagen.flow_from_dataframe(\n        pd.DataFrame({'filename': val_files, 'class': val_labels_str}),\n        x_col='filename',\n        y_col='class',\n        target_size=(128, 128),\n        class_mode='categorical',\n        batch_size=16,\n        shuffle=False\n    )\n    \n    # Model configuration\n    CONFIG = dict(\n        batch_size=16,\n        img_height=128,\n        img_width=128,\n    )\n    \n    # Rename the model variable to avoid conflicts\n    densenet_model = tf.keras.applications.DenseNet201(weights=\"imagenet\", include_top=False, input_shape=(128, 128, 3))\n    densenet_model.trainable = True\n    inputs = tf.keras.Input((128, 128, 3))\n    x = densenet_model(inputs, training=False)\n    x = tf.keras.layers.GlobalAveragePooling2D()(x)\n    x = tf.keras.layers.Dense(1024, activation='relu')(x)\n    x = tf.keras.layers.Dense(len(label_encoder.classes_), activation='softmax')(x)\n    densenet_model = tf.keras.Model(inputs, x)\n    \n    densenet_model.compile(optimizer=keras.optimizers.Adam(1e-5),\n                           loss='categorical_crossentropy', metrics=['accuracy'])\n    \n    # W&B run\n    run = wandb.init(settings=wandb.Settings(start_method=\"fork\"),\n                     reinit=True,\n                     project='Preet_Potato_kfold',\n                     entity=\"pritmhala03\",\n                     config=CONFIG,\n                     group='DenseNet201',\n                     job_type='train')\n    \n    wandb.config.type = f'fold_{fold+1}'\n    \n    # Training with manual logging\n    for epoch in range(20):\n        history = densenet_model.fit(\n            train_generator,\n            epochs=1,\n            validation_data=val_generator\n        )\n        \n        # Log metrics manually to W&B\n        wandb.log({\n            \"epoch\": epoch + 1,\n            \"train_loss\": history.history['loss'][0],\n            \"train_accuracy\": history.history['accuracy'][0],\n            \"val_loss\": history.history['val_loss'][0],\n            \"val_accuracy\": history.history['val_accuracy'][0]\n        })\n    \n    # Evaluate model on validation set and log final metrics\n    val_loss, val_accuracy = densenet_model.evaluate(val_generator)\n    print(f\"Fold {fold+1} - Loss: {val_loss}, Accuracy: {val_accuracy * 100:.2f}%\")\n    fold_results.append((val_loss, val_accuracy))\n    wandb.log({\"final_val_loss\": val_loss, \"final_val_accuracy\": val_accuracy})\n    \n    # Save the model in TensorFlow SavedModel format\n    # densenet_model.save(f'DenseNet201_fold_{fold+1}', save_format='tf')\n    \n    # Finish W&B run\n    run.finish()\n\n# After all folds\nfor i, (val_loss, val_accuracy) in enumerate(fold_results):\n    print(f\"Fold {i+1} - Loss: {val_loss}, Accuracy: {val_accuracy * 100:.2f}%\")\n",
   "metadata": {
    "execution": {
     "iopub.status.busy": "2024-08-11T21:20:02.483452Z",
     "iopub.execute_input": "2024-08-11T21:20:02.483838Z",
     "iopub.status.idle": "2024-08-11T23:15:14.501691Z",
     "shell.execute_reply.started": "2024-08-11T21:20:02.483803Z",
     "shell.execute_reply": "2024-08-11T23:15:14.500799Z"
    },
    "trusted": true
   },
   "execution_count": 13,
   "outputs": [
    {
     "name": "stdout",
     "text": "Training fold 1/5...\nFound 2460 validated image filenames belonging to 7 classes.\nFound 616 validated image filenames belonging to 7 classes.\nDownloading data from https://storage.googleapis.com/tensorflow/keras-applications/densenet/densenet201_weights_tf_dim_ordering_tf_kernels_notop.h5\n\u001B[1m74836368/74836368\u001B[0m \u001B[32m━━━━━━━━━━━━━━━━━━━━\u001B[0m\u001B[37m\u001B[0m \u001B[1m4s\u001B[0m 0us/step\n",
     "output_type": "stream"
    },
    {
     "name": "stderr",
     "text": "\u001B[34m\u001B[1mwandb\u001B[0m: Logging into wandb.ai. (Learn how to deploy a W&B server locally: https://wandb.me/wandb-server)\n\u001B[34m\u001B[1mwandb\u001B[0m: You can find your API key in your browser here: https://wandb.ai/authorize\n\u001B[34m\u001B[1mwandb\u001B[0m: Paste an API key from your profile and hit enter, or press ctrl+c to quit:",
     "output_type": "stream"
    },
    {
     "output_type": "stream",
     "name": "stdin",
     "text": "  ········································\n"
    },
    {
     "name": "stderr",
     "text": "\u001B[34m\u001B[1mwandb\u001B[0m: Appending key for api.wandb.ai to your netrc file: /root/.netrc\n",
     "output_type": "stream"
    },
    {
     "output_type": "display_data",
     "data": {
      "text/plain": "<IPython.core.display.HTML object>",
      "text/html": "wandb version 0.17.6 is available!  To upgrade, please run:\n $ pip install wandb --upgrade"
     },
     "metadata": {}
    },
    {
     "output_type": "display_data",
     "data": {
      "text/plain": "<IPython.core.display.HTML object>",
      "text/html": "Tracking run with wandb version 0.17.4"
     },
     "metadata": {}
    },
    {
     "output_type": "display_data",
     "data": {
      "text/plain": "<IPython.core.display.HTML object>",
      "text/html": "Run data is saved locally in <code>/kaggle/working/wandb/run-20240811_212021-sne18aed</code>"
     },
     "metadata": {}
    },
    {
     "output_type": "display_data",
     "data": {
      "text/plain": "<IPython.core.display.HTML object>",
      "text/html": "Syncing run <strong><a href='https://wandb.ai/pritmhala03/Preet_Potato_kfold/runs/sne18aed' target=\"_blank\">jolly-hill-1</a></strong> to <a href='https://wandb.ai/pritmhala03/Preet_Potato_kfold' target=\"_blank\">Weights & Biases</a> (<a href='https://wandb.me/run' target=\"_blank\">docs</a>)<br/>"
     },
     "metadata": {}
    },
    {
     "output_type": "display_data",
     "data": {
      "text/plain": "<IPython.core.display.HTML object>",
      "text/html": " View project at <a href='https://wandb.ai/pritmhala03/Preet_Potato_kfold' target=\"_blank\">https://wandb.ai/pritmhala03/Preet_Potato_kfold</a>"
     },
     "metadata": {}
    },
    {
     "output_type": "display_data",
     "data": {
      "text/plain": "<IPython.core.display.HTML object>",
      "text/html": " View run at <a href='https://wandb.ai/pritmhala03/Preet_Potato_kfold/runs/sne18aed' target=\"_blank\">https://wandb.ai/pritmhala03/Preet_Potato_kfold/runs/sne18aed</a>"
     },
     "metadata": {}
    },
    {
     "name": "stderr",
     "text": "/opt/conda/lib/python3.10/site-packages/keras/src/trainers/data_adapters/py_dataset_adapter.py:121: UserWarning: Your `PyDataset` class should call `super().__init__(**kwargs)` in its constructor. `**kwargs` can include `workers`, `use_multiprocessing`, `max_queue_size`. Do not pass these arguments to `fit()`, as they will be ignored.\n  self._warn_if_super_not_called()\nWARNING: All log messages before absl::InitializeLog() is called are written to STDERR\nI0000 00:00:1723411500.660273     117 device_compiler.h:186] Compiled cluster using XLA!  This line is logged at most once for the lifetime of the process.\n",
     "output_type": "stream"
    },
    {
     "name": "stdout",
     "text": "\u001B[1m  1/154\u001B[0m \u001B[37m━━━━━━━━━━━━━━━━━━━━\u001B[0m \u001B[1m11:05:38\u001B[0m 261s/step - accuracy: 0.2500 - loss: 1.8099",
     "output_type": "stream"
    },
    {
     "name": "stderr",
     "text": "W0000 00:00:1723411500.908791     117 graph_launch.cc:671] Fallback to op-by-op mode because memset node breaks graph update\n",
     "output_type": "stream"
    },
    {
     "name": "stdout",
     "text": "\u001B[1m154/154\u001B[0m \u001B[32m━━━━━━━━━━━━━━━━━━━━\u001B[0m\u001B[37m\u001B[0m \u001B[1m0s\u001B[0m 1s/step - accuracy: 0.2699 - loss: 1.9041",
     "output_type": "stream"
    },
    {
     "name": "stderr",
     "text": "W0000 00:00:1723411716.433380     116 graph_launch.cc:671] Fallback to op-by-op mode because memset node breaks graph update\n",
     "output_type": "stream"
    },
    {
     "name": "stdout",
     "text": "\u001B[1m154/154\u001B[0m \u001B[32m━━━━━━━━━━━━━━━━━━━━\u001B[0m\u001B[37m\u001B[0m \u001B[1m508s\u001B[0m 2s/step - accuracy: 0.2703 - loss: 1.9029 - val_accuracy: 0.4302 - val_loss: 1.5545\n\u001B[1m154/154\u001B[0m \u001B[32m━━━━━━━━━━━━━━━━━━━━\u001B[0m\u001B[37m\u001B[0m \u001B[1m49s\u001B[0m 310ms/step - accuracy: 0.5027 - loss: 1.3647 - val_accuracy: 0.5601 - val_loss: 1.2133\n\u001B[1m154/154\u001B[0m \u001B[32m━━━━━━━━━━━━━━━━━━━━\u001B[0m\u001B[37m\u001B[0m \u001B[1m48s\u001B[0m 301ms/step - accuracy: 0.6131 - loss: 1.0748 - val_accuracy: 0.6347 - val_loss: 1.0384\n\u001B[1m154/154\u001B[0m \u001B[32m━━━━━━━━━━━━━━━━━━━━\u001B[0m\u001B[37m\u001B[0m \u001B[1m48s\u001B[0m 299ms/step - accuracy: 0.6565 - loss: 0.9441 - val_accuracy: 0.6883 - val_loss: 0.8721\n\u001B[1m154/154\u001B[0m \u001B[32m━━━━━━━━━━━━━━━━━━━━\u001B[0m\u001B[37m\u001B[0m \u001B[1m48s\u001B[0m 302ms/step - accuracy: 0.7092 - loss: 0.8174 - val_accuracy: 0.7094 - val_loss: 0.8330\n\u001B[1m154/154\u001B[0m \u001B[32m━━━━━━━━━━━━━━━━━━━━\u001B[0m\u001B[37m\u001B[0m \u001B[1m48s\u001B[0m 302ms/step - accuracy: 0.7410 - loss: 0.7399 - val_accuracy: 0.7094 - val_loss: 0.8041\n\u001B[1m154/154\u001B[0m \u001B[32m━━━━━━━━━━━━━━━━━━━━\u001B[0m\u001B[37m\u001B[0m \u001B[1m47s\u001B[0m 296ms/step - accuracy: 0.7700 - loss: 0.6397 - val_accuracy: 0.7159 - val_loss: 0.7774\n\u001B[1m154/154\u001B[0m \u001B[32m━━━━━━━━━━━━━━━━━━━━\u001B[0m\u001B[37m\u001B[0m \u001B[1m49s\u001B[0m 307ms/step - accuracy: 0.7880 - loss: 0.6000 - val_accuracy: 0.7305 - val_loss: 0.7102\n\u001B[1m154/154\u001B[0m \u001B[32m━━━━━━━━━━━━━━━━━━━━\u001B[0m\u001B[37m\u001B[0m \u001B[1m49s\u001B[0m 308ms/step - accuracy: 0.8186 - loss: 0.5094 - val_accuracy: 0.7565 - val_loss: 0.6705\n\u001B[1m154/154\u001B[0m \u001B[32m━━━━━━━━━━━━━━━━━━━━\u001B[0m\u001B[37m\u001B[0m \u001B[1m48s\u001B[0m 303ms/step - accuracy: 0.8322 - loss: 0.4866 - val_accuracy: 0.7744 - val_loss: 0.6419\n\u001B[1m154/154\u001B[0m \u001B[32m━━━━━━━━━━━━━━━━━━━━\u001B[0m\u001B[37m\u001B[0m \u001B[1m48s\u001B[0m 301ms/step - accuracy: 0.8596 - loss: 0.4278 - val_accuracy: 0.7695 - val_loss: 0.6361\n\u001B[1m154/154\u001B[0m \u001B[32m━━━━━━━━━━━━━━━━━━━━\u001B[0m\u001B[37m\u001B[0m \u001B[1m49s\u001B[0m 309ms/step - accuracy: 0.8810 - loss: 0.3909 - val_accuracy: 0.7792 - val_loss: 0.6212\n\u001B[1m154/154\u001B[0m \u001B[32m━━━━━━━━━━━━━━━━━━━━\u001B[0m\u001B[37m\u001B[0m \u001B[1m49s\u001B[0m 306ms/step - accuracy: 0.8771 - loss: 0.3694 - val_accuracy: 0.8068 - val_loss: 0.5879\n\u001B[1m154/154\u001B[0m \u001B[32m━━━━━━━━━━━━━━━━━━━━\u001B[0m\u001B[37m\u001B[0m \u001B[1m48s\u001B[0m 301ms/step - accuracy: 0.8828 - loss: 0.3400 - val_accuracy: 0.7825 - val_loss: 0.6031\n\u001B[1m154/154\u001B[0m \u001B[32m━━━━━━━━━━━━━━━━━━━━\u001B[0m\u001B[37m\u001B[0m \u001B[1m48s\u001B[0m 301ms/step - accuracy: 0.9091 - loss: 0.2813 - val_accuracy: 0.7825 - val_loss: 0.5925\n\u001B[1m154/154\u001B[0m \u001B[32m━━━━━━━━━━━━━━━━━━━━\u001B[0m\u001B[37m\u001B[0m \u001B[1m47s\u001B[0m 297ms/step - accuracy: 0.9167 - loss: 0.2730 - val_accuracy: 0.7792 - val_loss: 0.6277\n\u001B[1m154/154\u001B[0m \u001B[32m━━━━━━━━━━━━━━━━━━━━\u001B[0m\u001B[37m\u001B[0m \u001B[1m48s\u001B[0m 298ms/step - accuracy: 0.9268 - loss: 0.2542 - val_accuracy: 0.8036 - val_loss: 0.6060\n\u001B[1m154/154\u001B[0m \u001B[32m━━━━━━━━━━━━━━━━━━━━\u001B[0m\u001B[37m\u001B[0m \u001B[1m48s\u001B[0m 300ms/step - accuracy: 0.9259 - loss: 0.2338 - val_accuracy: 0.7890 - val_loss: 0.6178\n\u001B[1m154/154\u001B[0m \u001B[32m━━━━━━━━━━━━━━━━━━━━\u001B[0m\u001B[37m\u001B[0m \u001B[1m48s\u001B[0m 299ms/step - accuracy: 0.9191 - loss: 0.2411 - val_accuracy: 0.8133 - val_loss: 0.5586\n\u001B[1m154/154\u001B[0m \u001B[32m━━━━━━━━━━━━━━━━━━━━\u001B[0m\u001B[37m\u001B[0m \u001B[1m48s\u001B[0m 300ms/step - accuracy: 0.9366 - loss: 0.2028 - val_accuracy: 0.7971 - val_loss: 0.6144\n\u001B[1m39/39\u001B[0m \u001B[32m━━━━━━━━━━━━━━━━━━━━\u001B[0m\u001B[37m\u001B[0m \u001B[1m9s\u001B[0m 230ms/step - accuracy: 0.8380 - loss: 0.4577\nFold 1 - Loss: 0.5938485264778137, Accuracy: 78.90%\n",
     "output_type": "stream"
    },
    {
     "output_type": "display_data",
     "data": {
      "text/plain": "VBox(children=(Label(value='0.042 MB of 0.042 MB uploaded\\r'), FloatProgress(value=1.0, max=1.0)))",
      "application/vnd.jupyter.widget-view+json": {
       "version_major": 2,
       "version_minor": 0,
       "model_id": ""
      }
     },
     "metadata": {}
    },
    {
     "output_type": "display_data",
     "data": {
      "text/plain": "<IPython.core.display.HTML object>",
      "text/html": "<style>\n    table.wandb td:nth-child(1) { padding: 0 10px; text-align: left ; width: auto;} td:nth-child(2) {text-align: left ; width: 100%}\n    .wandb-row { display: flex; flex-direction: row; flex-wrap: wrap; justify-content: flex-start; width: 100% }\n    .wandb-col { display: flex; flex-direction: column; flex-basis: 100%; flex: 1; padding: 10px; }\n    </style>\n<div class=\"wandb-row\"><div class=\"wandb-col\"><h3>Run history:</h3><br/><table class=\"wandb\"><tr><td>epoch</td><td>▁▁▂▂▂▃▃▄▄▄▅▅▅▆▆▇▇▇██</td></tr><tr><td>final_val_accuracy</td><td>▁</td></tr><tr><td>final_val_loss</td><td>▁</td></tr><tr><td>train_accuracy</td><td>▁▃▄▅▅▆▆▆▇▇▇▇▇███████</td></tr><tr><td>train_loss</td><td>█▆▅▄▄▃▃▃▂▂▂▂▂▂▁▁▁▁▁▁</td></tr><tr><td>val_accuracy</td><td>▁▃▅▆▆▆▆▆▇▇▇▇█▇▇▇████</td></tr><tr><td>val_loss</td><td>█▆▄▃▃▃▃▂▂▂▂▁▁▁▁▁▁▁▁▁</td></tr></table><br/></div><div class=\"wandb-col\"><h3>Run summary:</h3><br/><table class=\"wandb\"><tr><td>epoch</td><td>20</td></tr><tr><td>final_val_accuracy</td><td>0.78896</td></tr><tr><td>final_val_loss</td><td>0.59385</td></tr><tr><td>train_accuracy</td><td>0.93252</td></tr><tr><td>train_loss</td><td>0.20248</td></tr><tr><td>val_accuracy</td><td>0.79708</td></tr><tr><td>val_loss</td><td>0.61439</td></tr></table><br/></div></div>"
     },
     "metadata": {}
    },
    {
     "output_type": "display_data",
     "data": {
      "text/plain": "<IPython.core.display.HTML object>",
      "text/html": " View run <strong style=\"color:#cdcd00\">jolly-hill-1</strong> at: <a href='https://wandb.ai/pritmhala03/Preet_Potato_kfold/runs/sne18aed' target=\"_blank\">https://wandb.ai/pritmhala03/Preet_Potato_kfold/runs/sne18aed</a><br/> View project at: <a href='https://wandb.ai/pritmhala03/Preet_Potato_kfold' target=\"_blank\">https://wandb.ai/pritmhala03/Preet_Potato_kfold</a><br/>Synced 5 W&B file(s), 0 media file(s), 2 artifact file(s) and 1 other file(s)"
     },
     "metadata": {}
    },
    {
     "output_type": "display_data",
     "data": {
      "text/plain": "<IPython.core.display.HTML object>",
      "text/html": "Find logs at: <code>./wandb/run-20240811_212021-sne18aed/logs</code>"
     },
     "metadata": {}
    },
    {
     "output_type": "display_data",
     "data": {
      "text/plain": "<IPython.core.display.HTML object>",
      "text/html": "The new W&B backend becomes opt-out in version 0.18.0; try it out with `wandb.require(\"core\")`! See https://wandb.me/wandb-core for more information."
     },
     "metadata": {}
    },
    {
     "name": "stdout",
     "text": "Training fold 2/5...\nFound 2461 validated image filenames belonging to 7 classes.\nFound 615 validated image filenames belonging to 7 classes.\n",
     "output_type": "stream"
    },
    {
     "name": "stderr",
     "text": "\u001B[34m\u001B[1mwandb\u001B[0m: Currently logged in as: \u001B[33mpritmhala03\u001B[0m. Use \u001B[1m`wandb login --relogin`\u001B[0m to force relogin\n",
     "output_type": "stream"
    },
    {
     "output_type": "display_data",
     "data": {
      "text/plain": "<IPython.core.display.HTML object>",
      "text/html": "wandb version 0.17.6 is available!  To upgrade, please run:\n $ pip install wandb --upgrade"
     },
     "metadata": {}
    },
    {
     "output_type": "display_data",
     "data": {
      "text/plain": "<IPython.core.display.HTML object>",
      "text/html": "Tracking run with wandb version 0.17.4"
     },
     "metadata": {}
    },
    {
     "output_type": "display_data",
     "data": {
      "text/plain": "<IPython.core.display.HTML object>",
      "text/html": "Run data is saved locally in <code>/kaggle/working/wandb/run-20240811_214533-wjd3m63u</code>"
     },
     "metadata": {}
    },
    {
     "output_type": "display_data",
     "data": {
      "text/plain": "<IPython.core.display.HTML object>",
      "text/html": "Syncing run <strong><a href='https://wandb.ai/pritmhala03/Preet_Potato_kfold/runs/wjd3m63u' target=\"_blank\">fine-dream-2</a></strong> to <a href='https://wandb.ai/pritmhala03/Preet_Potato_kfold' target=\"_blank\">Weights & Biases</a> (<a href='https://wandb.me/run' target=\"_blank\">docs</a>)<br/>"
     },
     "metadata": {}
    },
    {
     "output_type": "display_data",
     "data": {
      "text/plain": "<IPython.core.display.HTML object>",
      "text/html": " View project at <a href='https://wandb.ai/pritmhala03/Preet_Potato_kfold' target=\"_blank\">https://wandb.ai/pritmhala03/Preet_Potato_kfold</a>"
     },
     "metadata": {}
    },
    {
     "output_type": "display_data",
     "data": {
      "text/plain": "<IPython.core.display.HTML object>",
      "text/html": " View run at <a href='https://wandb.ai/pritmhala03/Preet_Potato_kfold/runs/wjd3m63u' target=\"_blank\">https://wandb.ai/pritmhala03/Preet_Potato_kfold/runs/wjd3m63u</a>"
     },
     "metadata": {}
    },
    {
     "name": "stderr",
     "text": "/opt/conda/lib/python3.10/site-packages/keras/src/trainers/data_adapters/py_dataset_adapter.py:121: UserWarning: Your `PyDataset` class should call `super().__init__(**kwargs)` in its constructor. `**kwargs` can include `workers`, `use_multiprocessing`, `max_queue_size`. Do not pass these arguments to `fit()`, as they will be ignored.\n  self._warn_if_super_not_called()\n",
     "output_type": "stream"
    },
    {
     "name": "stdout",
     "text": "\u001B[1m  1/154\u001B[0m \u001B[37m━━━━━━━━━━━━━━━━━━━━\u001B[0m \u001B[1m9:21:28\u001B[0m 220s/step - accuracy: 0.3125 - loss: 1.6224",
     "output_type": "stream"
    },
    {
     "name": "stderr",
     "text": "W0000 00:00:1723412971.691574     116 graph_launch.cc:671] Fallback to op-by-op mode because memset node breaks graph update\n",
     "output_type": "stream"
    },
    {
     "name": "stdout",
     "text": "\u001B[1m154/154\u001B[0m \u001B[32m━━━━━━━━━━━━━━━━━━━━\u001B[0m\u001B[37m\u001B[0m \u001B[1m0s\u001B[0m 1s/step - accuracy: 0.2859 - loss: 1.8041",
     "output_type": "stream"
    },
    {
     "name": "stderr",
     "text": "W0000 00:00:1723413174.887414     118 graph_launch.cc:671] Fallback to op-by-op mode because memset node breaks graph update\n",
     "output_type": "stream"
    },
    {
     "name": "stdout",
     "text": "\u001B[1m154/154\u001B[0m \u001B[32m━━━━━━━━━━━━━━━━━━━━\u001B[0m\u001B[37m\u001B[0m \u001B[1m452s\u001B[0m 2s/step - accuracy: 0.2863 - loss: 1.8032 - val_accuracy: 0.4146 - val_loss: 1.5262\n\u001B[1m154/154\u001B[0m \u001B[32m━━━━━━━━━━━━━━━━━━━━\u001B[0m\u001B[37m\u001B[0m \u001B[1m47s\u001B[0m 295ms/step - accuracy: 0.5106 - loss: 1.3476 - val_accuracy: 0.5626 - val_loss: 1.2066\n\u001B[1m154/154\u001B[0m \u001B[32m━━━━━━━━━━━━━━━━━━━━\u001B[0m\u001B[37m\u001B[0m \u001B[1m48s\u001B[0m 304ms/step - accuracy: 0.6087 - loss: 1.0938 - val_accuracy: 0.6341 - val_loss: 1.0316\n\u001B[1m154/154\u001B[0m \u001B[32m━━━━━━━━━━━━━━━━━━━━\u001B[0m\u001B[37m\u001B[0m \u001B[1m48s\u001B[0m 303ms/step - accuracy: 0.6605 - loss: 0.9221 - val_accuracy: 0.6667 - val_loss: 0.9001\n\u001B[1m154/154\u001B[0m \u001B[32m━━━━━━━━━━━━━━━━━━━━\u001B[0m\u001B[37m\u001B[0m \u001B[1m48s\u001B[0m 301ms/step - accuracy: 0.7013 - loss: 0.8317 - val_accuracy: 0.7236 - val_loss: 0.8131\n\u001B[1m154/154\u001B[0m \u001B[32m━━━━━━━━━━━━━━━━━━━━\u001B[0m\u001B[37m\u001B[0m \u001B[1m48s\u001B[0m 302ms/step - accuracy: 0.7410 - loss: 0.7215 - val_accuracy: 0.7301 - val_loss: 0.7594\n\u001B[1m154/154\u001B[0m \u001B[32m━━━━━━━━━━━━━━━━━━━━\u001B[0m\u001B[37m\u001B[0m \u001B[1m47s\u001B[0m 296ms/step - accuracy: 0.7867 - loss: 0.6309 - val_accuracy: 0.7577 - val_loss: 0.6981\n\u001B[1m154/154\u001B[0m \u001B[32m━━━━━━━━━━━━━━━━━━━━\u001B[0m\u001B[37m\u001B[0m \u001B[1m47s\u001B[0m 294ms/step - accuracy: 0.7855 - loss: 0.6021 - val_accuracy: 0.7724 - val_loss: 0.6622\n\u001B[1m154/154\u001B[0m \u001B[32m━━━━━━━━━━━━━━━━━━━━\u001B[0m\u001B[37m\u001B[0m \u001B[1m48s\u001B[0m 299ms/step - accuracy: 0.8121 - loss: 0.5482 - val_accuracy: 0.7659 - val_loss: 0.6468\n\u001B[1m154/154\u001B[0m \u001B[32m━━━━━━━━━━━━━━━━━━━━\u001B[0m\u001B[37m\u001B[0m \u001B[1m47s\u001B[0m 297ms/step - accuracy: 0.8319 - loss: 0.4842 - val_accuracy: 0.7854 - val_loss: 0.6318\n\u001B[1m154/154\u001B[0m \u001B[32m━━━━━━━━━━━━━━━━━━━━\u001B[0m\u001B[37m\u001B[0m \u001B[1m48s\u001B[0m 304ms/step - accuracy: 0.8299 - loss: 0.4615 - val_accuracy: 0.7967 - val_loss: 0.5792\n\u001B[1m154/154\u001B[0m \u001B[32m━━━━━━━━━━━━━━━━━━━━\u001B[0m\u001B[37m\u001B[0m \u001B[1m48s\u001B[0m 301ms/step - accuracy: 0.8767 - loss: 0.3825 - val_accuracy: 0.8179 - val_loss: 0.5504\n\u001B[1m154/154\u001B[0m \u001B[32m━━━━━━━━━━━━━━━━━━━━\u001B[0m\u001B[37m\u001B[0m \u001B[1m48s\u001B[0m 303ms/step - accuracy: 0.8799 - loss: 0.3583 - val_accuracy: 0.8146 - val_loss: 0.5775\n\u001B[1m154/154\u001B[0m \u001B[32m━━━━━━━━━━━━━━━━━━━━\u001B[0m\u001B[37m\u001B[0m \u001B[1m48s\u001B[0m 300ms/step - accuracy: 0.8815 - loss: 0.3533 - val_accuracy: 0.8098 - val_loss: 0.5602\n\u001B[1m154/154\u001B[0m \u001B[32m━━━━━━━━━━━━━━━━━━━━\u001B[0m\u001B[37m\u001B[0m \u001B[1m48s\u001B[0m 301ms/step - accuracy: 0.8933 - loss: 0.3154 - val_accuracy: 0.8244 - val_loss: 0.5423\n\u001B[1m154/154\u001B[0m \u001B[32m━━━━━━━━━━━━━━━━━━━━\u001B[0m\u001B[37m\u001B[0m \u001B[1m49s\u001B[0m 304ms/step - accuracy: 0.9232 - loss: 0.2607 - val_accuracy: 0.8163 - val_loss: 0.5145\n\u001B[1m154/154\u001B[0m \u001B[32m━━━━━━━━━━━━━━━━━━━━\u001B[0m\u001B[37m\u001B[0m \u001B[1m47s\u001B[0m 298ms/step - accuracy: 0.9202 - loss: 0.2432 - val_accuracy: 0.8341 - val_loss: 0.5256\n\u001B[1m154/154\u001B[0m \u001B[32m━━━━━━━━━━━━━━━━━━━━\u001B[0m\u001B[37m\u001B[0m \u001B[1m47s\u001B[0m 296ms/step - accuracy: 0.9285 - loss: 0.2385 - val_accuracy: 0.8211 - val_loss: 0.5533\n\u001B[1m154/154\u001B[0m \u001B[32m━━━━━━━━━━━━━━━━━━━━\u001B[0m\u001B[37m\u001B[0m \u001B[1m48s\u001B[0m 298ms/step - accuracy: 0.9176 - loss: 0.2395 - val_accuracy: 0.8130 - val_loss: 0.5426\n\u001B[1m154/154\u001B[0m \u001B[32m━━━━━━━━━━━━━━━━━━━━\u001B[0m\u001B[37m\u001B[0m \u001B[1m47s\u001B[0m 294ms/step - accuracy: 0.9290 - loss: 0.2133 - val_accuracy: 0.8407 - val_loss: 0.5480\n\u001B[1m39/39\u001B[0m \u001B[32m━━━━━━━━━━━━━━━━━━━━\u001B[0m\u001B[37m\u001B[0m \u001B[1m9s\u001B[0m 233ms/step - accuracy: 0.8499 - loss: 0.4417\nFold 2 - Loss: 0.5092435479164124, Accuracy: 82.44%\n",
     "output_type": "stream"
    },
    {
     "output_type": "display_data",
     "data": {
      "text/plain": "VBox(children=(Label(value='0.054 MB of 0.054 MB uploaded\\r'), FloatProgress(value=1.0, max=1.0)))",
      "application/vnd.jupyter.widget-view+json": {
       "version_major": 2,
       "version_minor": 0,
       "model_id": ""
      }
     },
     "metadata": {}
    },
    {
     "output_type": "display_data",
     "data": {
      "text/plain": "<IPython.core.display.HTML object>",
      "text/html": "<style>\n    table.wandb td:nth-child(1) { padding: 0 10px; text-align: left ; width: auto;} td:nth-child(2) {text-align: left ; width: 100%}\n    .wandb-row { display: flex; flex-direction: row; flex-wrap: wrap; justify-content: flex-start; width: 100% }\n    .wandb-col { display: flex; flex-direction: column; flex-basis: 100%; flex: 1; padding: 10px; }\n    </style>\n<div class=\"wandb-row\"><div class=\"wandb-col\"><h3>Run history:</h3><br/><table class=\"wandb\"><tr><td>epoch</td><td>▁▁▂▂▂▃▃▄▄▄▅▅▅▆▆▇▇▇██</td></tr><tr><td>final_val_accuracy</td><td>▁</td></tr><tr><td>final_val_loss</td><td>▁</td></tr><tr><td>train_accuracy</td><td>▁▃▄▅▅▆▆▆▇▇▇▇▇▇██████</td></tr><tr><td>train_loss</td><td>█▆▅▄▄▄▃▃▃▂▂▂▂▂▂▁▁▁▁▁</td></tr><tr><td>val_accuracy</td><td>▁▃▅▅▆▆▇▇▇▇▇██▇██████</td></tr><tr><td>val_loss</td><td>█▆▅▄▃▃▂▂▂▂▁▁▁▁▁▁▁▁▁▁</td></tr></table><br/></div><div class=\"wandb-col\"><h3>Run summary:</h3><br/><table class=\"wandb\"><tr><td>epoch</td><td>20</td></tr><tr><td>final_val_accuracy</td><td>0.82439</td></tr><tr><td>final_val_loss</td><td>0.50924</td></tr><tr><td>train_accuracy</td><td>0.93133</td></tr><tr><td>train_loss</td><td>0.20047</td></tr><tr><td>val_accuracy</td><td>0.84065</td></tr><tr><td>val_loss</td><td>0.54798</td></tr></table><br/></div></div>"
     },
     "metadata": {}
    },
    {
     "output_type": "display_data",
     "data": {
      "text/plain": "<IPython.core.display.HTML object>",
      "text/html": " View run <strong style=\"color:#cdcd00\">fine-dream-2</strong> at: <a href='https://wandb.ai/pritmhala03/Preet_Potato_kfold/runs/wjd3m63u' target=\"_blank\">https://wandb.ai/pritmhala03/Preet_Potato_kfold/runs/wjd3m63u</a><br/> View project at: <a href='https://wandb.ai/pritmhala03/Preet_Potato_kfold' target=\"_blank\">https://wandb.ai/pritmhala03/Preet_Potato_kfold</a><br/>Synced 5 W&B file(s), 0 media file(s), 2 artifact file(s) and 1 other file(s)"
     },
     "metadata": {}
    },
    {
     "output_type": "display_data",
     "data": {
      "text/plain": "<IPython.core.display.HTML object>",
      "text/html": "Find logs at: <code>./wandb/run-20240811_214533-wjd3m63u/logs</code>"
     },
     "metadata": {}
    },
    {
     "output_type": "display_data",
     "data": {
      "text/plain": "<IPython.core.display.HTML object>",
      "text/html": "The new W&B backend becomes opt-out in version 0.18.0; try it out with `wandb.require(\"core\")`! See https://wandb.me/wandb-core for more information."
     },
     "metadata": {}
    },
    {
     "name": "stdout",
     "text": "Training fold 3/5...\nFound 2461 validated image filenames belonging to 7 classes.\nFound 615 validated image filenames belonging to 7 classes.\n",
     "output_type": "stream"
    },
    {
     "output_type": "display_data",
     "data": {
      "text/plain": "<IPython.core.display.HTML object>",
      "text/html": "wandb version 0.17.6 is available!  To upgrade, please run:\n $ pip install wandb --upgrade"
     },
     "metadata": {}
    },
    {
     "output_type": "display_data",
     "data": {
      "text/plain": "<IPython.core.display.HTML object>",
      "text/html": "Tracking run with wandb version 0.17.4"
     },
     "metadata": {}
    },
    {
     "output_type": "display_data",
     "data": {
      "text/plain": "<IPython.core.display.HTML object>",
      "text/html": "Run data is saved locally in <code>/kaggle/working/wandb/run-20240811_220904-ighsxkyb</code>"
     },
     "metadata": {}
    },
    {
     "output_type": "display_data",
     "data": {
      "text/plain": "<IPython.core.display.HTML object>",
      "text/html": "Syncing run <strong><a href='https://wandb.ai/pritmhala03/Preet_Potato_kfold/runs/ighsxkyb' target=\"_blank\">rural-armadillo-3</a></strong> to <a href='https://wandb.ai/pritmhala03/Preet_Potato_kfold' target=\"_blank\">Weights & Biases</a> (<a href='https://wandb.me/run' target=\"_blank\">docs</a>)<br/>"
     },
     "metadata": {}
    },
    {
     "output_type": "display_data",
     "data": {
      "text/plain": "<IPython.core.display.HTML object>",
      "text/html": " View project at <a href='https://wandb.ai/pritmhala03/Preet_Potato_kfold' target=\"_blank\">https://wandb.ai/pritmhala03/Preet_Potato_kfold</a>"
     },
     "metadata": {}
    },
    {
     "output_type": "display_data",
     "data": {
      "text/plain": "<IPython.core.display.HTML object>",
      "text/html": " View run at <a href='https://wandb.ai/pritmhala03/Preet_Potato_kfold/runs/ighsxkyb' target=\"_blank\">https://wandb.ai/pritmhala03/Preet_Potato_kfold/runs/ighsxkyb</a>"
     },
     "metadata": {}
    },
    {
     "name": "stderr",
     "text": "/opt/conda/lib/python3.10/site-packages/keras/src/trainers/data_adapters/py_dataset_adapter.py:121: UserWarning: Your `PyDataset` class should call `super().__init__(**kwargs)` in its constructor. `**kwargs` can include `workers`, `use_multiprocessing`, `max_queue_size`. Do not pass these arguments to `fit()`, as they will be ignored.\n  self._warn_if_super_not_called()\n",
     "output_type": "stream"
    },
    {
     "name": "stdout",
     "text": "\u001B[1m  1/154\u001B[0m \u001B[37m━━━━━━━━━━━━━━━━━━━━\u001B[0m \u001B[1m9:20:12\u001B[0m 220s/step - accuracy: 0.0625 - loss: 2.4362",
     "output_type": "stream"
    },
    {
     "name": "stderr",
     "text": "W0000 00:00:1723414381.799298     118 graph_launch.cc:671] Fallback to op-by-op mode because memset node breaks graph update\n",
     "output_type": "stream"
    },
    {
     "name": "stdout",
     "text": "\u001B[1m154/154\u001B[0m \u001B[32m━━━━━━━━━━━━━━━━━━━━\u001B[0m\u001B[37m\u001B[0m \u001B[1m0s\u001B[0m 959ms/step - accuracy: 0.2528 - loss: 1.9071",
     "output_type": "stream"
    },
    {
     "name": "stderr",
     "text": "W0000 00:00:1723414544.783656     116 graph_launch.cc:671] Fallback to op-by-op mode because memset node breaks graph update\n",
     "output_type": "stream"
    },
    {
     "name": "stdout",
     "text": "\u001B[1m154/154\u001B[0m \u001B[32m━━━━━━━━━━━━━━━━━━━━\u001B[0m\u001B[37m\u001B[0m \u001B[1m400s\u001B[0m 1s/step - accuracy: 0.2533 - loss: 1.9059 - val_accuracy: 0.3951 - val_loss: 1.5608\n\u001B[1m154/154\u001B[0m \u001B[32m━━━━━━━━━━━━━━━━━━━━\u001B[0m\u001B[37m\u001B[0m \u001B[1m49s\u001B[0m 306ms/step - accuracy: 0.4636 - loss: 1.4078 - val_accuracy: 0.5333 - val_loss: 1.2655\n\u001B[1m154/154\u001B[0m \u001B[32m━━━━━━━━━━━━━━━━━━━━\u001B[0m\u001B[37m\u001B[0m \u001B[1m48s\u001B[0m 300ms/step - accuracy: 0.5817 - loss: 1.1675 - val_accuracy: 0.6439 - val_loss: 1.0453\n\u001B[1m154/154\u001B[0m \u001B[32m━━━━━━━━━━━━━━━━━━━━\u001B[0m\u001B[37m\u001B[0m \u001B[1m48s\u001B[0m 304ms/step - accuracy: 0.6523 - loss: 0.9778 - val_accuracy: 0.6358 - val_loss: 0.9385\n\u001B[1m154/154\u001B[0m \u001B[32m━━━━━━━━━━━━━━━━━━━━\u001B[0m\u001B[37m\u001B[0m \u001B[1m47s\u001B[0m 294ms/step - accuracy: 0.6954 - loss: 0.8450 - val_accuracy: 0.6764 - val_loss: 0.8757\n\u001B[1m154/154\u001B[0m \u001B[32m━━━━━━━━━━━━━━━━━━━━\u001B[0m\u001B[37m\u001B[0m \u001B[1m48s\u001B[0m 300ms/step - accuracy: 0.7356 - loss: 0.7532 - val_accuracy: 0.6943 - val_loss: 0.7962\n\u001B[1m154/154\u001B[0m \u001B[32m━━━━━━━━━━━━━━━━━━━━\u001B[0m\u001B[37m\u001B[0m \u001B[1m48s\u001B[0m 304ms/step - accuracy: 0.7712 - loss: 0.6367 - val_accuracy: 0.7301 - val_loss: 0.7305\n\u001B[1m154/154\u001B[0m \u001B[32m━━━━━━━━━━━━━━━━━━━━\u001B[0m\u001B[37m\u001B[0m \u001B[1m47s\u001B[0m 297ms/step - accuracy: 0.7998 - loss: 0.5738 - val_accuracy: 0.7301 - val_loss: 0.7149\n\u001B[1m154/154\u001B[0m \u001B[32m━━━━━━━━━━━━━━━━━━━━\u001B[0m\u001B[37m\u001B[0m \u001B[1m48s\u001B[0m 300ms/step - accuracy: 0.8184 - loss: 0.5321 - val_accuracy: 0.7545 - val_loss: 0.6613\n\u001B[1m154/154\u001B[0m \u001B[32m━━━━━━━━━━━━━━━━━━━━\u001B[0m\u001B[37m\u001B[0m \u001B[1m48s\u001B[0m 300ms/step - accuracy: 0.8351 - loss: 0.4786 - val_accuracy: 0.7512 - val_loss: 0.6703\n\u001B[1m154/154\u001B[0m \u001B[32m━━━━━━━━━━━━━━━━━━━━\u001B[0m\u001B[37m\u001B[0m \u001B[1m48s\u001B[0m 300ms/step - accuracy: 0.8276 - loss: 0.4660 - val_accuracy: 0.7577 - val_loss: 0.6218\n\u001B[1m154/154\u001B[0m \u001B[32m━━━━━━━━━━━━━━━━━━━━\u001B[0m\u001B[37m\u001B[0m \u001B[1m48s\u001B[0m 300ms/step - accuracy: 0.8768 - loss: 0.3829 - val_accuracy: 0.7984 - val_loss: 0.5958\n\u001B[1m154/154\u001B[0m \u001B[32m━━━━━━━━━━━━━━━━━━━━\u001B[0m\u001B[37m\u001B[0m \u001B[1m48s\u001B[0m 299ms/step - accuracy: 0.8567 - loss: 0.3993 - val_accuracy: 0.7805 - val_loss: 0.5943\n\u001B[1m154/154\u001B[0m \u001B[32m━━━━━━━━━━━━━━━━━━━━\u001B[0m\u001B[37m\u001B[0m \u001B[1m48s\u001B[0m 303ms/step - accuracy: 0.8958 - loss: 0.3190 - val_accuracy: 0.7984 - val_loss: 0.5636\n\u001B[1m154/154\u001B[0m \u001B[32m━━━━━━━━━━━━━━━━━━━━\u001B[0m\u001B[37m\u001B[0m \u001B[1m49s\u001B[0m 305ms/step - accuracy: 0.8838 - loss: 0.3350 - val_accuracy: 0.7984 - val_loss: 0.5650\n\u001B[1m154/154\u001B[0m \u001B[32m━━━━━━━━━━━━━━━━━━━━\u001B[0m\u001B[37m\u001B[0m \u001B[1m48s\u001B[0m 299ms/step - accuracy: 0.9009 - loss: 0.3165 - val_accuracy: 0.7984 - val_loss: 0.5296\n\u001B[1m154/154\u001B[0m \u001B[32m━━━━━━━━━━━━━━━━━━━━\u001B[0m\u001B[37m\u001B[0m \u001B[1m48s\u001B[0m 304ms/step - accuracy: 0.9123 - loss: 0.2728 - val_accuracy: 0.7951 - val_loss: 0.5782\n\u001B[1m154/154\u001B[0m \u001B[32m━━━━━━━━━━━━━━━━━━━━\u001B[0m\u001B[37m\u001B[0m \u001B[1m47s\u001B[0m 295ms/step - accuracy: 0.9155 - loss: 0.2580 - val_accuracy: 0.8081 - val_loss: 0.5541\n\u001B[1m154/154\u001B[0m \u001B[32m━━━━━━━━━━━━━━━━━━━━\u001B[0m\u001B[37m\u001B[0m \u001B[1m48s\u001B[0m 301ms/step - accuracy: 0.9397 - loss: 0.2047 - val_accuracy: 0.7935 - val_loss: 0.5656\n\u001B[1m154/154\u001B[0m \u001B[32m━━━━━━━━━━━━━━━━━━━━\u001B[0m\u001B[37m\u001B[0m \u001B[1m48s\u001B[0m 300ms/step - accuracy: 0.9328 - loss: 0.2010 - val_accuracy: 0.8049 - val_loss: 0.5686\n\u001B[1m39/39\u001B[0m \u001B[32m━━━━━━━━━━━━━━━━━━━━\u001B[0m\u001B[37m\u001B[0m \u001B[1m9s\u001B[0m 230ms/step - accuracy: 0.8573 - loss: 0.4327\nFold 3 - Loss: 0.5398438572883606, Accuracy: 81.30%\n",
     "output_type": "stream"
    },
    {
     "output_type": "display_data",
     "data": {
      "text/plain": "VBox(children=(Label(value='0.066 MB of 0.066 MB uploaded\\r'), FloatProgress(value=1.0, max=1.0)))",
      "application/vnd.jupyter.widget-view+json": {
       "version_major": 2,
       "version_minor": 0,
       "model_id": ""
      }
     },
     "metadata": {}
    },
    {
     "output_type": "display_data",
     "data": {
      "text/plain": "<IPython.core.display.HTML object>",
      "text/html": "<style>\n    table.wandb td:nth-child(1) { padding: 0 10px; text-align: left ; width: auto;} td:nth-child(2) {text-align: left ; width: 100%}\n    .wandb-row { display: flex; flex-direction: row; flex-wrap: wrap; justify-content: flex-start; width: 100% }\n    .wandb-col { display: flex; flex-direction: column; flex-basis: 100%; flex: 1; padding: 10px; }\n    </style>\n<div class=\"wandb-row\"><div class=\"wandb-col\"><h3>Run history:</h3><br/><table class=\"wandb\"><tr><td>epoch</td><td>▁▁▂▂▂▃▃▄▄▄▅▅▅▆▆▇▇▇██</td></tr><tr><td>final_val_accuracy</td><td>▁</td></tr><tr><td>final_val_loss</td><td>▁</td></tr><tr><td>train_accuracy</td><td>▁▃▄▅▅▆▆▆▇▇▇▇▇█▇█████</td></tr><tr><td>train_loss</td><td>█▆▅▄▄▃▃▃▃▂▂▂▂▂▂▁▁▁▁▁</td></tr><tr><td>val_accuracy</td><td>▁▃▅▅▆▆▇▇▇▇▇█████████</td></tr><tr><td>val_loss</td><td>█▆▅▄▃▃▂▂▂▂▂▁▁▁▁▁▁▁▁▁</td></tr></table><br/></div><div class=\"wandb-col\"><h3>Run summary:</h3><br/><table class=\"wandb\"><tr><td>epoch</td><td>20</td></tr><tr><td>final_val_accuracy</td><td>0.81301</td></tr><tr><td>final_val_loss</td><td>0.53984</td></tr><tr><td>train_accuracy</td><td>0.93336</td></tr><tr><td>train_loss</td><td>0.20065</td></tr><tr><td>val_accuracy</td><td>0.80488</td></tr><tr><td>val_loss</td><td>0.56857</td></tr></table><br/></div></div>"
     },
     "metadata": {}
    },
    {
     "output_type": "display_data",
     "data": {
      "text/plain": "<IPython.core.display.HTML object>",
      "text/html": " View run <strong style=\"color:#cdcd00\">rural-armadillo-3</strong> at: <a href='https://wandb.ai/pritmhala03/Preet_Potato_kfold/runs/ighsxkyb' target=\"_blank\">https://wandb.ai/pritmhala03/Preet_Potato_kfold/runs/ighsxkyb</a><br/> View project at: <a href='https://wandb.ai/pritmhala03/Preet_Potato_kfold' target=\"_blank\">https://wandb.ai/pritmhala03/Preet_Potato_kfold</a><br/>Synced 5 W&B file(s), 0 media file(s), 2 artifact file(s) and 1 other file(s)"
     },
     "metadata": {}
    },
    {
     "output_type": "display_data",
     "data": {
      "text/plain": "<IPython.core.display.HTML object>",
      "text/html": "Find logs at: <code>./wandb/run-20240811_220904-ighsxkyb/logs</code>"
     },
     "metadata": {}
    },
    {
     "output_type": "display_data",
     "data": {
      "text/plain": "<IPython.core.display.HTML object>",
      "text/html": "The new W&B backend becomes opt-out in version 0.18.0; try it out with `wandb.require(\"core\")`! See https://wandb.me/wandb-core for more information."
     },
     "metadata": {}
    },
    {
     "name": "stdout",
     "text": "Training fold 4/5...\nFound 2461 validated image filenames belonging to 7 classes.\nFound 615 validated image filenames belonging to 7 classes.\n",
     "output_type": "stream"
    },
    {
     "output_type": "display_data",
     "data": {
      "text/plain": "<IPython.core.display.HTML object>",
      "text/html": "wandb version 0.17.6 is available!  To upgrade, please run:\n $ pip install wandb --upgrade"
     },
     "metadata": {}
    },
    {
     "output_type": "display_data",
     "data": {
      "text/plain": "<IPython.core.display.HTML object>",
      "text/html": "Tracking run with wandb version 0.17.4"
     },
     "metadata": {}
    },
    {
     "output_type": "display_data",
     "data": {
      "text/plain": "<IPython.core.display.HTML object>",
      "text/html": "Run data is saved locally in <code>/kaggle/working/wandb/run-20240811_223146-ru1zbflm</code>"
     },
     "metadata": {}
    },
    {
     "output_type": "display_data",
     "data": {
      "text/plain": "<IPython.core.display.HTML object>",
      "text/html": "Syncing run <strong><a href='https://wandb.ai/pritmhala03/Preet_Potato_kfold/runs/ru1zbflm' target=\"_blank\">restful-star-4</a></strong> to <a href='https://wandb.ai/pritmhala03/Preet_Potato_kfold' target=\"_blank\">Weights & Biases</a> (<a href='https://wandb.me/run' target=\"_blank\">docs</a>)<br/>"
     },
     "metadata": {}
    },
    {
     "output_type": "display_data",
     "data": {
      "text/plain": "<IPython.core.display.HTML object>",
      "text/html": " View project at <a href='https://wandb.ai/pritmhala03/Preet_Potato_kfold' target=\"_blank\">https://wandb.ai/pritmhala03/Preet_Potato_kfold</a>"
     },
     "metadata": {}
    },
    {
     "output_type": "display_data",
     "data": {
      "text/plain": "<IPython.core.display.HTML object>",
      "text/html": " View run at <a href='https://wandb.ai/pritmhala03/Preet_Potato_kfold/runs/ru1zbflm' target=\"_blank\">https://wandb.ai/pritmhala03/Preet_Potato_kfold/runs/ru1zbflm</a>"
     },
     "metadata": {}
    },
    {
     "name": "stderr",
     "text": "/opt/conda/lib/python3.10/site-packages/keras/src/trainers/data_adapters/py_dataset_adapter.py:121: UserWarning: Your `PyDataset` class should call `super().__init__(**kwargs)` in its constructor. `**kwargs` can include `workers`, `use_multiprocessing`, `max_queue_size`. Do not pass these arguments to `fit()`, as they will be ignored.\n  self._warn_if_super_not_called()\n",
     "output_type": "stream"
    },
    {
     "name": "stdout",
     "text": "\u001B[1m  1/154\u001B[0m \u001B[37m━━━━━━━━━━━━━━━━━━━━\u001B[0m \u001B[1m9:22:54\u001B[0m 221s/step - accuracy: 0.0625 - loss: 2.4640",
     "output_type": "stream"
    },
    {
     "name": "stderr",
     "text": "W0000 00:00:1723415745.619504     118 graph_launch.cc:671] Fallback to op-by-op mode because memset node breaks graph update\n",
     "output_type": "stream"
    },
    {
     "name": "stdout",
     "text": "\u001B[1m154/154\u001B[0m \u001B[32m━━━━━━━━━━━━━━━━━━━━\u001B[0m\u001B[37m\u001B[0m \u001B[1m0s\u001B[0m 938ms/step - accuracy: 0.2563 - loss: 1.8651",
     "output_type": "stream"
    },
    {
     "name": "stderr",
     "text": "W0000 00:00:1723415904.653652     118 graph_launch.cc:671] Fallback to op-by-op mode because memset node breaks graph update\n",
     "output_type": "stream"
    },
    {
     "name": "stdout",
     "text": "\u001B[1m154/154\u001B[0m \u001B[32m━━━━━━━━━━━━━━━━━━━━\u001B[0m\u001B[37m\u001B[0m \u001B[1m396s\u001B[0m 1s/step - accuracy: 0.2568 - loss: 1.8640 - val_accuracy: 0.3951 - val_loss: 1.5965\n\u001B[1m154/154\u001B[0m \u001B[32m━━━━━━━━━━━━━━━━━━━━\u001B[0m\u001B[37m\u001B[0m \u001B[1m46s\u001B[0m 290ms/step - accuracy: 0.4872 - loss: 1.3883 - val_accuracy: 0.5496 - val_loss: 1.2421\n\u001B[1m154/154\u001B[0m \u001B[32m━━━━━━━━━━━━━━━━━━━━\u001B[0m\u001B[37m\u001B[0m \u001B[1m45s\u001B[0m 285ms/step - accuracy: 0.5895 - loss: 1.1114 - val_accuracy: 0.6130 - val_loss: 1.0199\n\u001B[1m154/154\u001B[0m \u001B[32m━━━━━━━━━━━━━━━━━━━━\u001B[0m\u001B[37m\u001B[0m \u001B[1m46s\u001B[0m 290ms/step - accuracy: 0.6594 - loss: 0.9475 - val_accuracy: 0.6699 - val_loss: 0.8684\n\u001B[1m154/154\u001B[0m \u001B[32m━━━━━━━━━━━━━━━━━━━━\u001B[0m\u001B[37m\u001B[0m \u001B[1m46s\u001B[0m 287ms/step - accuracy: 0.7137 - loss: 0.8169 - val_accuracy: 0.7252 - val_loss: 0.7778\n\u001B[1m154/154\u001B[0m \u001B[32m━━━━━━━━━━━━━━━━━━━━\u001B[0m\u001B[37m\u001B[0m \u001B[1m45s\u001B[0m 284ms/step - accuracy: 0.7508 - loss: 0.7199 - val_accuracy: 0.7431 - val_loss: 0.7115\n\u001B[1m154/154\u001B[0m \u001B[32m━━━━━━━━━━━━━━━━━━━━\u001B[0m\u001B[37m\u001B[0m \u001B[1m46s\u001B[0m 288ms/step - accuracy: 0.7524 - loss: 0.6664 - val_accuracy: 0.7691 - val_loss: 0.6626\n\u001B[1m154/154\u001B[0m \u001B[32m━━━━━━━━━━━━━━━━━━━━\u001B[0m\u001B[37m\u001B[0m \u001B[1m46s\u001B[0m 289ms/step - accuracy: 0.8139 - loss: 0.5546 - val_accuracy: 0.7724 - val_loss: 0.6400\n\u001B[1m154/154\u001B[0m \u001B[32m━━━━━━━━━━━━━━━━━━━━\u001B[0m\u001B[37m\u001B[0m \u001B[1m47s\u001B[0m 291ms/step - accuracy: 0.8308 - loss: 0.5048 - val_accuracy: 0.7854 - val_loss: 0.5904\n\u001B[1m154/154\u001B[0m \u001B[32m━━━━━━━━━━━━━━━━━━━━\u001B[0m\u001B[37m\u001B[0m \u001B[1m46s\u001B[0m 286ms/step - accuracy: 0.8343 - loss: 0.4779 - val_accuracy: 0.7886 - val_loss: 0.5869\n\u001B[1m154/154\u001B[0m \u001B[32m━━━━━━━━━━━━━━━━━━━━\u001B[0m\u001B[37m\u001B[0m \u001B[1m45s\u001B[0m 285ms/step - accuracy: 0.8456 - loss: 0.4411 - val_accuracy: 0.8016 - val_loss: 0.5558\n\u001B[1m154/154\u001B[0m \u001B[32m━━━━━━━━━━━━━━━━━━━━\u001B[0m\u001B[37m\u001B[0m \u001B[1m45s\u001B[0m 283ms/step - accuracy: 0.8610 - loss: 0.4058 - val_accuracy: 0.8000 - val_loss: 0.5622\n\u001B[1m154/154\u001B[0m \u001B[32m━━━━━━━━━━━━━━━━━━━━\u001B[0m\u001B[37m\u001B[0m \u001B[1m45s\u001B[0m 283ms/step - accuracy: 0.8672 - loss: 0.3686 - val_accuracy: 0.8033 - val_loss: 0.5454\n\u001B[1m154/154\u001B[0m \u001B[32m━━━━━━━━━━━━━━━━━━━━\u001B[0m\u001B[37m\u001B[0m \u001B[1m45s\u001B[0m 282ms/step - accuracy: 0.8877 - loss: 0.3380 - val_accuracy: 0.8000 - val_loss: 0.5540\n\u001B[1m154/154\u001B[0m \u001B[32m━━━━━━━━━━━━━━━━━━━━\u001B[0m\u001B[37m\u001B[0m \u001B[1m45s\u001B[0m 283ms/step - accuracy: 0.9014 - loss: 0.3142 - val_accuracy: 0.8195 - val_loss: 0.5432\n\u001B[1m154/154\u001B[0m \u001B[32m━━━━━━━━━━━━━━━━━━━━\u001B[0m\u001B[37m\u001B[0m \u001B[1m46s\u001B[0m 285ms/step - accuracy: 0.9019 - loss: 0.2916 - val_accuracy: 0.8179 - val_loss: 0.5264\n\u001B[1m154/154\u001B[0m \u001B[32m━━━━━━━━━━━━━━━━━━━━\u001B[0m\u001B[37m\u001B[0m \u001B[1m46s\u001B[0m 287ms/step - accuracy: 0.9317 - loss: 0.2283 - val_accuracy: 0.8049 - val_loss: 0.5694\n\u001B[1m154/154\u001B[0m \u001B[32m━━━━━━━━━━━━━━━━━━━━\u001B[0m\u001B[37m\u001B[0m \u001B[1m45s\u001B[0m 284ms/step - accuracy: 0.9308 - loss: 0.2345 - val_accuracy: 0.8146 - val_loss: 0.5242\n\u001B[1m154/154\u001B[0m \u001B[32m━━━━━━━━━━━━━━━━━━━━\u001B[0m\u001B[37m\u001B[0m \u001B[1m45s\u001B[0m 281ms/step - accuracy: 0.9383 - loss: 0.1966 - val_accuracy: 0.8293 - val_loss: 0.5364\n\u001B[1m154/154\u001B[0m \u001B[32m━━━━━━━━━━━━━━━━━━━━\u001B[0m\u001B[37m\u001B[0m \u001B[1m46s\u001B[0m 288ms/step - accuracy: 0.9378 - loss: 0.2038 - val_accuracy: 0.8211 - val_loss: 0.5328\n\u001B[1m39/39\u001B[0m \u001B[32m━━━━━━━━━━━━━━━━━━━━\u001B[0m\u001B[37m\u001B[0m \u001B[1m9s\u001B[0m 221ms/step - accuracy: 0.8547 - loss: 0.4236\nFold 4 - Loss: 0.5189046263694763, Accuracy: 81.46%\n",
     "output_type": "stream"
    },
    {
     "output_type": "display_data",
     "data": {
      "text/plain": "VBox(children=(Label(value='0.078 MB of 0.078 MB uploaded\\r'), FloatProgress(value=1.0, max=1.0)))",
      "application/vnd.jupyter.widget-view+json": {
       "version_major": 2,
       "version_minor": 0,
       "model_id": ""
      }
     },
     "metadata": {}
    },
    {
     "output_type": "display_data",
     "data": {
      "text/plain": "<IPython.core.display.HTML object>",
      "text/html": "<style>\n    table.wandb td:nth-child(1) { padding: 0 10px; text-align: left ; width: auto;} td:nth-child(2) {text-align: left ; width: 100%}\n    .wandb-row { display: flex; flex-direction: row; flex-wrap: wrap; justify-content: flex-start; width: 100% }\n    .wandb-col { display: flex; flex-direction: column; flex-basis: 100%; flex: 1; padding: 10px; }\n    </style>\n<div class=\"wandb-row\"><div class=\"wandb-col\"><h3>Run history:</h3><br/><table class=\"wandb\"><tr><td>epoch</td><td>▁▁▂▂▂▃▃▄▄▄▅▅▅▆▆▇▇▇██</td></tr><tr><td>final_val_accuracy</td><td>▁</td></tr><tr><td>final_val_loss</td><td>▁</td></tr><tr><td>train_accuracy</td><td>▁▃▄▅▅▆▆▇▇▇▇▇▇▇██████</td></tr><tr><td>train_loss</td><td>█▆▅▄▄▃▃▃▂▂▂▂▂▂▁▁▁▁▁▁</td></tr><tr><td>val_accuracy</td><td>▁▃▅▅▆▇▇▇▇▇██████████</td></tr><tr><td>val_loss</td><td>█▆▄▃▃▂▂▂▁▁▁▁▁▁▁▁▁▁▁▁</td></tr></table><br/></div><div class=\"wandb-col\"><h3>Run summary:</h3><br/><table class=\"wandb\"><tr><td>epoch</td><td>20</td></tr><tr><td>final_val_accuracy</td><td>0.81463</td></tr><tr><td>final_val_loss</td><td>0.5189</td></tr><tr><td>train_accuracy</td><td>0.92523</td></tr><tr><td>train_loss</td><td>0.22594</td></tr><tr><td>val_accuracy</td><td>0.82114</td></tr><tr><td>val_loss</td><td>0.53278</td></tr></table><br/></div></div>"
     },
     "metadata": {}
    },
    {
     "output_type": "display_data",
     "data": {
      "text/plain": "<IPython.core.display.HTML object>",
      "text/html": " View run <strong style=\"color:#cdcd00\">restful-star-4</strong> at: <a href='https://wandb.ai/pritmhala03/Preet_Potato_kfold/runs/ru1zbflm' target=\"_blank\">https://wandb.ai/pritmhala03/Preet_Potato_kfold/runs/ru1zbflm</a><br/> View project at: <a href='https://wandb.ai/pritmhala03/Preet_Potato_kfold' target=\"_blank\">https://wandb.ai/pritmhala03/Preet_Potato_kfold</a><br/>Synced 5 W&B file(s), 0 media file(s), 2 artifact file(s) and 1 other file(s)"
     },
     "metadata": {}
    },
    {
     "output_type": "display_data",
     "data": {
      "text/plain": "<IPython.core.display.HTML object>",
      "text/html": "Find logs at: <code>./wandb/run-20240811_223146-ru1zbflm/logs</code>"
     },
     "metadata": {}
    },
    {
     "output_type": "display_data",
     "data": {
      "text/plain": "<IPython.core.display.HTML object>",
      "text/html": "The new W&B backend becomes opt-out in version 0.18.0; try it out with `wandb.require(\"core\")`! See https://wandb.me/wandb-core for more information."
     },
     "metadata": {}
    },
    {
     "name": "stdout",
     "text": "Training fold 5/5...\nFound 2461 validated image filenames belonging to 7 classes.\nFound 615 validated image filenames belonging to 7 classes.\n",
     "output_type": "stream"
    },
    {
     "output_type": "display_data",
     "data": {
      "text/plain": "<IPython.core.display.HTML object>",
      "text/html": "wandb version 0.17.6 is available!  To upgrade, please run:\n $ pip install wandb --upgrade"
     },
     "metadata": {}
    },
    {
     "output_type": "display_data",
     "data": {
      "text/plain": "<IPython.core.display.HTML object>",
      "text/html": "Tracking run with wandb version 0.17.4"
     },
     "metadata": {}
    },
    {
     "output_type": "display_data",
     "data": {
      "text/plain": "<IPython.core.display.HTML object>",
      "text/html": "Run data is saved locally in <code>/kaggle/working/wandb/run-20240811_225341-vmhe18s0</code>"
     },
     "metadata": {}
    },
    {
     "output_type": "display_data",
     "data": {
      "text/plain": "<IPython.core.display.HTML object>",
      "text/html": "Syncing run <strong><a href='https://wandb.ai/pritmhala03/Preet_Potato_kfold/runs/vmhe18s0' target=\"_blank\">major-dream-5</a></strong> to <a href='https://wandb.ai/pritmhala03/Preet_Potato_kfold' target=\"_blank\">Weights & Biases</a> (<a href='https://wandb.me/run' target=\"_blank\">docs</a>)<br/>"
     },
     "metadata": {}
    },
    {
     "output_type": "display_data",
     "data": {
      "text/plain": "<IPython.core.display.HTML object>",
      "text/html": " View project at <a href='https://wandb.ai/pritmhala03/Preet_Potato_kfold' target=\"_blank\">https://wandb.ai/pritmhala03/Preet_Potato_kfold</a>"
     },
     "metadata": {}
    },
    {
     "output_type": "display_data",
     "data": {
      "text/plain": "<IPython.core.display.HTML object>",
      "text/html": " View run at <a href='https://wandb.ai/pritmhala03/Preet_Potato_kfold/runs/vmhe18s0' target=\"_blank\">https://wandb.ai/pritmhala03/Preet_Potato_kfold/runs/vmhe18s0</a>"
     },
     "metadata": {}
    },
    {
     "name": "stderr",
     "text": "/opt/conda/lib/python3.10/site-packages/keras/src/trainers/data_adapters/py_dataset_adapter.py:121: UserWarning: Your `PyDataset` class should call `super().__init__(**kwargs)` in its constructor. `**kwargs` can include `workers`, `use_multiprocessing`, `max_queue_size`. Do not pass these arguments to `fit()`, as they will be ignored.\n  self._warn_if_super_not_called()\n",
     "output_type": "stream"
    },
    {
     "name": "stdout",
     "text": "\u001B[1m  1/154\u001B[0m \u001B[37m━━━━━━━━━━━━━━━━━━━━\u001B[0m \u001B[1m8:46:34\u001B[0m 207s/step - accuracy: 0.1875 - loss: 1.7720",
     "output_type": "stream"
    },
    {
     "name": "stderr",
     "text": "W0000 00:00:1723417045.416241     117 graph_launch.cc:671] Fallback to op-by-op mode because memset node breaks graph update\n",
     "output_type": "stream"
    },
    {
     "name": "stdout",
     "text": "\u001B[1m154/154\u001B[0m \u001B[32m━━━━━━━━━━━━━━━━━━━━\u001B[0m\u001B[37m\u001B[0m \u001B[1m0s\u001B[0m 870ms/step - accuracy: 0.2684 - loss: 1.7870",
     "output_type": "stream"
    },
    {
     "name": "stderr",
     "text": "W0000 00:00:1723417193.854547     116 graph_launch.cc:671] Fallback to op-by-op mode because memset node breaks graph update\n",
     "output_type": "stream"
    },
    {
     "name": "stdout",
     "text": "\u001B[1m154/154\u001B[0m \u001B[32m━━━━━━━━━━━━━━━━━━━━\u001B[0m\u001B[37m\u001B[0m \u001B[1m372s\u001B[0m 1s/step - accuracy: 0.2689 - loss: 1.7863 - val_accuracy: 0.4049 - val_loss: 1.5222\n\u001B[1m154/154\u001B[0m \u001B[32m━━━━━━━━━━━━━━━━━━━━\u001B[0m\u001B[37m\u001B[0m \u001B[1m46s\u001B[0m 288ms/step - accuracy: 0.4792 - loss: 1.3897 - val_accuracy: 0.5593 - val_loss: 1.2193\n\u001B[1m154/154\u001B[0m \u001B[32m━━━━━━━━━━━━━━━━━━━━\u001B[0m\u001B[37m\u001B[0m \u001B[1m46s\u001B[0m 290ms/step - accuracy: 0.5979 - loss: 1.1326 - val_accuracy: 0.6195 - val_loss: 1.0286\n\u001B[1m154/154\u001B[0m \u001B[32m━━━━━━━━━━━━━━━━━━━━\u001B[0m\u001B[37m\u001B[0m \u001B[1m46s\u001B[0m 288ms/step - accuracy: 0.6481 - loss: 0.9697 - val_accuracy: 0.6537 - val_loss: 0.8821\n\u001B[1m154/154\u001B[0m \u001B[32m━━━━━━━━━━━━━━━━━━━━\u001B[0m\u001B[37m\u001B[0m \u001B[1m46s\u001B[0m 286ms/step - accuracy: 0.7142 - loss: 0.8153 - val_accuracy: 0.6764 - val_loss: 0.8471\n\u001B[1m154/154\u001B[0m \u001B[32m━━━━━━━━━━━━━━━━━━━━\u001B[0m\u001B[37m\u001B[0m \u001B[1m46s\u001B[0m 287ms/step - accuracy: 0.7483 - loss: 0.7353 - val_accuracy: 0.7398 - val_loss: 0.7552\n\u001B[1m154/154\u001B[0m \u001B[32m━━━━━━━━━━━━━━━━━━━━\u001B[0m\u001B[37m\u001B[0m \u001B[1m47s\u001B[0m 292ms/step - accuracy: 0.7586 - loss: 0.6738 - val_accuracy: 0.7528 - val_loss: 0.7132\n\u001B[1m154/154\u001B[0m \u001B[32m━━━━━━━━━━━━━━━━━━━━\u001B[0m\u001B[37m\u001B[0m \u001B[1m46s\u001B[0m 291ms/step - accuracy: 0.7774 - loss: 0.6313 - val_accuracy: 0.7415 - val_loss: 0.6934\n\u001B[1m154/154\u001B[0m \u001B[32m━━━━━━━━━━━━━━━━━━━━\u001B[0m\u001B[37m\u001B[0m \u001B[1m45s\u001B[0m 284ms/step - accuracy: 0.8275 - loss: 0.5293 - val_accuracy: 0.7724 - val_loss: 0.6341\n\u001B[1m154/154\u001B[0m \u001B[32m━━━━━━━━━━━━━━━━━━━━\u001B[0m\u001B[37m\u001B[0m \u001B[1m46s\u001B[0m 288ms/step - accuracy: 0.8471 - loss: 0.4630 - val_accuracy: 0.8000 - val_loss: 0.5977\n\u001B[1m154/154\u001B[0m \u001B[32m━━━━━━━━━━━━━━━━━━━━\u001B[0m\u001B[37m\u001B[0m \u001B[1m46s\u001B[0m 285ms/step - accuracy: 0.8514 - loss: 0.4478 - val_accuracy: 0.7919 - val_loss: 0.5950\n\u001B[1m154/154\u001B[0m \u001B[32m━━━━━━━━━━━━━━━━━━━━\u001B[0m\u001B[37m\u001B[0m \u001B[1m46s\u001B[0m 287ms/step - accuracy: 0.8753 - loss: 0.3775 - val_accuracy: 0.7659 - val_loss: 0.6002\n\u001B[1m154/154\u001B[0m \u001B[32m━━━━━━━━━━━━━━━━━━━━\u001B[0m\u001B[37m\u001B[0m \u001B[1m45s\u001B[0m 279ms/step - accuracy: 0.8613 - loss: 0.4026 - val_accuracy: 0.7886 - val_loss: 0.5448\n\u001B[1m154/154\u001B[0m \u001B[32m━━━━━━━━━━━━━━━━━━━━\u001B[0m\u001B[37m\u001B[0m \u001B[1m47s\u001B[0m 293ms/step - accuracy: 0.8744 - loss: 0.3800 - val_accuracy: 0.7935 - val_loss: 0.5942\n\u001B[1m154/154\u001B[0m \u001B[32m━━━━━━━━━━━━━━━━━━━━\u001B[0m\u001B[37m\u001B[0m \u001B[1m47s\u001B[0m 292ms/step - accuracy: 0.9032 - loss: 0.3033 - val_accuracy: 0.7919 - val_loss: 0.5737\n\u001B[1m154/154\u001B[0m \u001B[32m━━━━━━━━━━━━━━━━━━━━\u001B[0m\u001B[37m\u001B[0m \u001B[1m46s\u001B[0m 289ms/step - accuracy: 0.9093 - loss: 0.2822 - val_accuracy: 0.8049 - val_loss: 0.5455\n\u001B[1m154/154\u001B[0m \u001B[32m━━━━━━━━━━━━━━━━━━━━\u001B[0m\u001B[37m\u001B[0m \u001B[1m45s\u001B[0m 283ms/step - accuracy: 0.9193 - loss: 0.2636 - val_accuracy: 0.7837 - val_loss: 0.5626\n\u001B[1m154/154\u001B[0m \u001B[32m━━━━━━━━━━━━━━━━━━━━\u001B[0m\u001B[37m\u001B[0m \u001B[1m46s\u001B[0m 287ms/step - accuracy: 0.9311 - loss: 0.2190 - val_accuracy: 0.8098 - val_loss: 0.5588\n\u001B[1m154/154\u001B[0m \u001B[32m━━━━━━━━━━━━━━━━━━━━\u001B[0m\u001B[37m\u001B[0m \u001B[1m45s\u001B[0m 283ms/step - accuracy: 0.9223 - loss: 0.2264 - val_accuracy: 0.8000 - val_loss: 0.5533\n\u001B[1m154/154\u001B[0m \u001B[32m━━━━━━━━━━━━━━━━━━━━\u001B[0m\u001B[37m\u001B[0m \u001B[1m46s\u001B[0m 286ms/step - accuracy: 0.9268 - loss: 0.2337 - val_accuracy: 0.7919 - val_loss: 0.5874\n\u001B[1m39/39\u001B[0m \u001B[32m━━━━━━━━━━━━━━━━━━━━\u001B[0m\u001B[37m\u001B[0m \u001B[1m9s\u001B[0m 221ms/step - accuracy: 0.8869 - loss: 0.3866\nFold 5 - Loss: 0.5270301103591919, Accuracy: 82.44%\n",
     "output_type": "stream"
    },
    {
     "output_type": "display_data",
     "data": {
      "text/plain": "VBox(children=(Label(value='0.090 MB of 0.090 MB uploaded\\r'), FloatProgress(value=1.0, max=1.0)))",
      "application/vnd.jupyter.widget-view+json": {
       "version_major": 2,
       "version_minor": 0,
       "model_id": ""
      }
     },
     "metadata": {}
    },
    {
     "output_type": "display_data",
     "data": {
      "text/plain": "<IPython.core.display.HTML object>",
      "text/html": "<style>\n    table.wandb td:nth-child(1) { padding: 0 10px; text-align: left ; width: auto;} td:nth-child(2) {text-align: left ; width: 100%}\n    .wandb-row { display: flex; flex-direction: row; flex-wrap: wrap; justify-content: flex-start; width: 100% }\n    .wandb-col { display: flex; flex-direction: column; flex-basis: 100%; flex: 1; padding: 10px; }\n    </style>\n<div class=\"wandb-row\"><div class=\"wandb-col\"><h3>Run history:</h3><br/><table class=\"wandb\"><tr><td>epoch</td><td>▁▁▂▂▂▃▃▄▄▄▅▅▅▆▆▇▇▇██</td></tr><tr><td>final_val_accuracy</td><td>▁</td></tr><tr><td>final_val_loss</td><td>▁</td></tr><tr><td>train_accuracy</td><td>▁▃▄▅▅▆▆▆▇▇▇▇▇▇██████</td></tr><tr><td>train_loss</td><td>█▆▅▄▄▃▃▃▂▂▂▂▂▂▁▁▁▁▁▁</td></tr><tr><td>val_accuracy</td><td>▁▄▅▅▆▇▇▇▇██▇████████</td></tr><tr><td>val_loss</td><td>█▆▄▃▃▃▂▂▂▁▁▁▁▁▁▁▁▁▁▁</td></tr></table><br/></div><div class=\"wandb-col\"><h3>Run summary:</h3><br/><table class=\"wandb\"><tr><td>epoch</td><td>20</td></tr><tr><td>final_val_accuracy</td><td>0.82439</td></tr><tr><td>final_val_loss</td><td>0.52703</td></tr><tr><td>train_accuracy</td><td>0.92564</td></tr><tr><td>train_loss</td><td>0.22457</td></tr><tr><td>val_accuracy</td><td>0.79187</td></tr><tr><td>val_loss</td><td>0.58737</td></tr></table><br/></div></div>"
     },
     "metadata": {}
    },
    {
     "output_type": "display_data",
     "data": {
      "text/plain": "<IPython.core.display.HTML object>",
      "text/html": " View run <strong style=\"color:#cdcd00\">major-dream-5</strong> at: <a href='https://wandb.ai/pritmhala03/Preet_Potato_kfold/runs/vmhe18s0' target=\"_blank\">https://wandb.ai/pritmhala03/Preet_Potato_kfold/runs/vmhe18s0</a><br/> View project at: <a href='https://wandb.ai/pritmhala03/Preet_Potato_kfold' target=\"_blank\">https://wandb.ai/pritmhala03/Preet_Potato_kfold</a><br/>Synced 5 W&B file(s), 0 media file(s), 2 artifact file(s) and 1 other file(s)"
     },
     "metadata": {}
    },
    {
     "output_type": "display_data",
     "data": {
      "text/plain": "<IPython.core.display.HTML object>",
      "text/html": "Find logs at: <code>./wandb/run-20240811_225341-vmhe18s0/logs</code>"
     },
     "metadata": {}
    },
    {
     "output_type": "display_data",
     "data": {
      "text/plain": "<IPython.core.display.HTML object>",
      "text/html": "The new W&B backend becomes opt-out in version 0.18.0; try it out with `wandb.require(\"core\")`! See https://wandb.me/wandb-core for more information."
     },
     "metadata": {}
    },
    {
     "name": "stdout",
     "text": "Fold 1 - Loss: 0.5938485264778137, Accuracy: 78.90%\nFold 2 - Loss: 0.5092435479164124, Accuracy: 82.44%\nFold 3 - Loss: 0.5398438572883606, Accuracy: 81.30%\nFold 4 - Loss: 0.5189046263694763, Accuracy: 81.46%\nFold 5 - Loss: 0.5270301103591919, Accuracy: 82.44%\n",
     "output_type": "stream"
    }
   ]
  },
  {
   "cell_type": "code",
   "source": "# After all folds\nfor i, (val_loss, val_accuracy) in enumerate(fold_results):\n    print(f\"Fold {i+1} - Loss: {val_loss}, Accuracy: {val_accuracy * 100:.2f}%\")",
   "metadata": {
    "execution": {
     "iopub.status.busy": "2024-08-11T23:15:14.505304Z",
     "iopub.execute_input": "2024-08-11T23:15:14.505604Z",
     "iopub.status.idle": "2024-08-11T23:15:14.510881Z",
     "shell.execute_reply.started": "2024-08-11T23:15:14.505567Z",
     "shell.execute_reply": "2024-08-11T23:15:14.510104Z"
    },
    "trusted": true
   },
   "execution_count": 14,
   "outputs": [
    {
     "name": "stdout",
     "text": "Fold 1 - Loss: 0.5938485264778137, Accuracy: 78.90%\nFold 2 - Loss: 0.5092435479164124, Accuracy: 82.44%\nFold 3 - Loss: 0.5398438572883606, Accuracy: 81.30%\nFold 4 - Loss: 0.5189046263694763, Accuracy: 81.46%\nFold 5 - Loss: 0.5270301103591919, Accuracy: 82.44%\n",
     "output_type": "stream"
    }
   ]
  },
  {
   "metadata": {},
   "cell_type": "markdown",
   "source": [
    "Fold 1 - Loss: 0.5938485264778137, Accuracy: 78.90%\n",
    "\n",
    "Fold 2 - Loss: 0.5092435479164124, Accuracy: 82.44%\n",
    "\n",
    "Fold 3 - Loss: 0.5398438572883606, Accuracy: 81.30%\n",
    "\n",
    "Fold 4 - Loss: 0.5189046263694763, Accuracy: 81.46%\n",
    "\n",
    "Fold 5 - Loss: 0.5270301103591919, Accuracy: 82.44%"
   ]
  },
  {
   "cell_type": "code",
   "source": "# After all folds: Compute average performance\naverage_val_loss = np.mean([result[0] for result in fold_results])\naverage_val_accuracy = np.mean([result[1] for result in fold_results])\nprint(f\"Average Validation Loss: {average_val_loss}, Average Validation Accuracy: {average_val_accuracy * 100:.2f}%\")",
   "metadata": {
    "execution": {
     "iopub.status.busy": "2024-08-11T23:15:14.511812Z",
     "iopub.execute_input": "2024-08-11T23:15:14.512050Z",
     "iopub.status.idle": "2024-08-11T23:15:14.524942Z",
     "shell.execute_reply.started": "2024-08-11T23:15:14.512024Z",
     "shell.execute_reply": "2024-08-11T23:15:14.524117Z"
    },
    "trusted": true
   },
   "execution_count": 15,
   "outputs": [
    {
     "name": "stdout",
     "text": "Average Validation Loss: 0.537774133682251, Average Validation Accuracy: 81.31%\n",
     "output_type": "stream"
    }
   ]
  },
  {
   "metadata": {},
   "cell_type": "markdown",
   "source": [
    "Average Validation Loss: 0.537774133682251,\n",
    "\n",
    "Average Validation Accuracy: 81.31%"
   ]
  }
 ]
}
